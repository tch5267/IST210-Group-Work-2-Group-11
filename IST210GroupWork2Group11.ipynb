{
 "cells": [
  {
   "cell_type": "markdown",
   "metadata": {},
   "source": [
    " ![](https://i.imgur.com/e3Dz3YH.png)"
   ]
  },
  {
   "cell_type": "markdown",
   "metadata": {},
   "source": [
    "Tables and primary keys we used for our pet show database were fishID, AquariumID, petID, enclosureID, memberID, and transID, petPurchase, fishPurchase and purchasePetFood. These tables allowed us to accomplished the goal tracking the sale of pet food and the adoption of pets themselves separately.\n",
    "For example, our fishID and petID tables kept track of all animals in our pet shop. It included species, size, and color of the animal/fish. These tables were linked to their respective purchase tables with a many to one relationship. For example, a person may buy many fish in one purchase. Likewise, a person may adopt two puppies in one purchase, thus making the relationship many to one. \n",
    "Our aquarium and enclosure IDs were linked to the fish and pet tables in a many to one relationship. Generally, many fish can live in one aquarium, and many pets could live within the same enclosure. (i.e. 2 kittens can live together). We also listed 0 as a value because an enclosure or an aquarium may be empty in some instances.\n",
    "We linked our food table to transactions with a one to one relationship. This is because we have a quantity attribute, meaning a person would only make one purchase for those things. That purchase would line up with one transaction. \n",
    "We linked our memberID to the transaction, pet, and fish tables. This is because one memberID would be used for discount for pets and fish. As it pertains to transactions, that would include deals such as “if you spend 50 dollars total, save 10dollars ”. \n",
    "The transaction table is a record of every transaction that takes place in the store. It works with the 3 purchase tables and the memberID tablle to process finical information, whether that be the payment method, discounts, reward points earned, etc.\n",
    "Our fishPurchase and petPurchase tables records data pertaining to which pet(s)/fish were purchased, the quantity, and it holds pricing data accordingly. These tables are linked to the memberID table for discounts, the transaction table for record keeping, and the petID/fishID tables respectively for inventory. \n"
   ]
  },
  {
   "cell_type": "code",
   "execution_count": null,
   "metadata": {},
   "outputs": [],
   "source": []
  }
 ],
 "metadata": {
  "kernelspec": {
   "display_name": "Python 3",
   "language": "python",
   "name": "python3"
  },
  "language_info": {
   "codemirror_mode": {
    "name": "ipython",
    "version": 3
   },
   "file_extension": ".py",
   "mimetype": "text/x-python",
   "name": "python",
   "nbconvert_exporter": "python",
   "pygments_lexer": "ipython3",
   "version": "3.7.3"
  }
 },
 "nbformat": 4,
 "nbformat_minor": 2
}
